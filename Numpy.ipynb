{
 "cells": [
  {
   "cell_type": "code",
   "execution_count": 10,
   "id": "0c8266d2-5a48-40eb-bc34-ac5a5d829c73",
   "metadata": {},
   "outputs": [
    {
     "name": "stdout",
     "output_type": "stream",
     "text": [
      "Enter Your age\n"
     ]
    },
    {
     "name": "stdin",
     "output_type": "stream",
     "text": [
      " 10\n"
     ]
    },
    {
     "name": "stdout",
     "output_type": "stream",
     "text": [
      "10\n"
     ]
    }
   ],
   "source": [
    "print('Enter Your age')\n",
    "age = input()\n",
    "print(age) \n",
    "\n"
   ]
  },
  {
   "cell_type": "code",
   "execution_count": 11,
   "id": "54416a89-603f-4ee7-b458-dd6284860e66",
   "metadata": {},
   "outputs": [
    {
     "data": {
      "text/plain": [
       "str"
      ]
     },
     "execution_count": 11,
     "metadata": {},
     "output_type": "execute_result"
    }
   ],
   "source": [
    "type(age)"
   ]
  },
  {
   "cell_type": "code",
   "execution_count": 12,
   "id": "f6115a00-316a-42f2-99ac-daf7c7af2e4f",
   "metadata": {},
   "outputs": [
    {
     "name": "stdout",
     "output_type": "stream",
     "text": [
      "30\n"
     ]
    }
   ],
   "source": [
    "Ama = int(age) + 20\n",
    "print (Ama)"
   ]
  },
  {
   "cell_type": "code",
   "execution_count": 3,
   "id": "b68f63a9-bd2e-4454-8e2f-65fcd7a2e21f",
   "metadata": {},
   "outputs": [],
   "source": [
    "import numpy as np"
   ]
  },
  {
   "cell_type": "code",
   "execution_count": 4,
   "id": "c980088c-d7ed-4ec3-96c3-2a1364edd03a",
   "metadata": {},
   "outputs": [
    {
     "data": {
      "text/plain": [
       "2"
      ]
     },
     "execution_count": 4,
     "metadata": {},
     "output_type": "execute_result"
    }
   ],
   "source": [
    "1+1"
   ]
  },
  {
   "cell_type": "code",
   "execution_count": 5,
   "id": "8c478a41-e0aa-44ee-b011-4504fd533c82",
   "metadata": {},
   "outputs": [
    {
     "name": "stdout",
     "output_type": "stream",
     "text": [
      "[1 2 3 4 5 6]\n"
     ]
    }
   ],
   "source": [
    "a=np.array([1,2,3,4,5,6])\n",
    "print(a)"
   ]
  },
  {
   "cell_type": "code",
   "execution_count": 6,
   "id": "09e360dd-75cb-4744-bd91-f475a473a957",
   "metadata": {},
   "outputs": [
    {
     "name": "stdout",
     "output_type": "stream",
     "text": [
      "[[2 1 2]\n",
      " [3 5 6]\n",
      " [8 9 0]]\n"
     ]
    }
   ],
   "source": [
    "Fa=np.array([[2,1,2], [3,5,6], [8,9,0]])\n",
    "print(Fa)"
   ]
  },
  {
   "cell_type": "code",
   "execution_count": 7,
   "id": "4faf7d2f-8c78-44d6-98d7-15ddabf68bb2",
   "metadata": {},
   "outputs": [
    {
     "data": {
      "text/plain": [
       "2"
      ]
     },
     "execution_count": 7,
     "metadata": {},
     "output_type": "execute_result"
    }
   ],
   "source": [
    "Fa.ndim"
   ]
  },
  {
   "cell_type": "code",
   "execution_count": 8,
   "id": "bad902ff-a15f-4618-9117-5575ee1c0da2",
   "metadata": {},
   "outputs": [
    {
     "data": {
      "text/plain": [
       "(3, 3)"
      ]
     },
     "execution_count": 8,
     "metadata": {},
     "output_type": "execute_result"
    }
   ],
   "source": [
    "Fa.shape"
   ]
  },
  {
   "cell_type": "code",
   "execution_count": 9,
   "id": "f5713b0f-f7fd-4604-b14d-b58d62c6df68",
   "metadata": {},
   "outputs": [
    {
     "data": {
      "text/plain": [
       "dtype('int32')"
      ]
     },
     "execution_count": 9,
     "metadata": {},
     "output_type": "execute_result"
    }
   ],
   "source": [
    "Fa.dtype"
   ]
  },
  {
   "cell_type": "code",
   "execution_count": 10,
   "id": "1dbcf682-f9ac-49c9-bc16-9091d84a120b",
   "metadata": {},
   "outputs": [
    {
     "data": {
      "text/plain": [
       "2"
      ]
     },
     "execution_count": 10,
     "metadata": {},
     "output_type": "execute_result"
    }
   ],
   "source": [
    "a[1]"
   ]
  },
  {
   "cell_type": "code",
   "execution_count": 11,
   "id": "04221a43-a9d3-44f1-9a59-84e4b541c238",
   "metadata": {},
   "outputs": [
    {
     "data": {
      "text/plain": [
       "array([3, 5, 6])"
      ]
     },
     "execution_count": 11,
     "metadata": {},
     "output_type": "execute_result"
    }
   ],
   "source": [
    "Fa[1]"
   ]
  },
  {
   "cell_type": "code",
   "execution_count": 12,
   "id": "a5fd2218-f11f-451e-9c61-fa70f46d0f4e",
   "metadata": {},
   "outputs": [
    {
     "data": {
      "text/plain": [
       "array([ 6, 10, 12])"
      ]
     },
     "execution_count": 12,
     "metadata": {},
     "output_type": "execute_result"
    }
   ],
   "source": [
    "Fa[1]*2"
   ]
  },
  {
   "cell_type": "code",
   "execution_count": 13,
   "id": "077a1f8f-9e49-4f82-b6d7-5d3d467ca5d2",
   "metadata": {},
   "outputs": [
    {
     "data": {
      "text/plain": [
       "(1, 3)"
      ]
     },
     "execution_count": 13,
     "metadata": {},
     "output_type": "execute_result"
    }
   ],
   "source": [
    "a[0], a[2]"
   ]
  },
  {
   "cell_type": "code",
   "execution_count": 14,
   "id": "9dad88ba-7fc2-4221-8288-03bbe237402a",
   "metadata": {},
   "outputs": [
    {
     "data": {
      "text/plain": [
       "array([1, 2, 3])"
      ]
     },
     "execution_count": 14,
     "metadata": {},
     "output_type": "execute_result"
    }
   ],
   "source": [
    "a[:3]"
   ]
  },
  {
   "cell_type": "code",
   "execution_count": 15,
   "id": "71ad5134-e7a4-451d-b95a-353616e919ae",
   "metadata": {},
   "outputs": [
    {
     "name": "stdout",
     "output_type": "stream",
     "text": [
      "[1 2 3 4 5 6]\n"
     ]
    }
   ],
   "source": [
    "print(a)"
   ]
  },
  {
   "cell_type": "code",
   "execution_count": 16,
   "id": "a58ffaf2-77a8-4815-be8b-a2bf87740ec6",
   "metadata": {},
   "outputs": [
    {
     "data": {
      "text/plain": [
       "array([1, 2, 3, 4])"
      ]
     },
     "execution_count": 16,
     "metadata": {},
     "output_type": "execute_result"
    }
   ],
   "source": [
    "a[0:4]"
   ]
  },
  {
   "cell_type": "code",
   "execution_count": 17,
   "id": "67979b9f-3512-4385-acbe-ac1834d6075b",
   "metadata": {},
   "outputs": [
    {
     "data": {
      "text/plain": [
       "(3, 3)"
      ]
     },
     "execution_count": 17,
     "metadata": {},
     "output_type": "execute_result"
    }
   ],
   "source": [
    "Fa.shape"
   ]
  },
  {
   "cell_type": "code",
   "execution_count": 18,
   "id": "03ebd994-cfe0-4543-bb7d-3f832644d70d",
   "metadata": {},
   "outputs": [
    {
     "data": {
      "text/plain": [
       "(6,)"
      ]
     },
     "execution_count": 18,
     "metadata": {},
     "output_type": "execute_result"
    }
   ],
   "source": [
    "a.shape"
   ]
  },
  {
   "cell_type": "code",
   "execution_count": 19,
   "id": "0d7bc74b-839f-406d-b7fe-6532b8f2e9d7",
   "metadata": {},
   "outputs": [
    {
     "data": {
      "text/plain": [
       "((3, 3), (6,))"
      ]
     },
     "execution_count": 19,
     "metadata": {},
     "output_type": "execute_result"
    }
   ],
   "source": [
    "Fa.shape, a.shape"
   ]
  },
  {
   "cell_type": "code",
   "execution_count": 22,
   "id": "467da471-ccea-4daa-98fa-542101f572f8",
   "metadata": {},
   "outputs": [
    {
     "data": {
      "text/plain": [
       "36"
      ]
     },
     "execution_count": 22,
     "metadata": {},
     "output_type": "execute_result"
    }
   ],
   "source": [
    "Fa.sum()"
   ]
  },
  {
   "cell_type": "code",
   "execution_count": 23,
   "id": "d00461ad-3d9c-497c-af2f-4868fb5acab9",
   "metadata": {},
   "outputs": [
    {
     "data": {
      "text/plain": [
       "4.0"
      ]
     },
     "execution_count": 23,
     "metadata": {},
     "output_type": "execute_result"
    }
   ],
   "source": [
    "Fa.mean()"
   ]
  },
  {
   "cell_type": "code",
   "execution_count": 27,
   "id": "4160e9b1-fd71-4987-9ee3-adcbd9d67303",
   "metadata": {},
   "outputs": [
    {
     "data": {
      "text/plain": [
       "2.9814239699997196"
      ]
     },
     "execution_count": 27,
     "metadata": {},
     "output_type": "execute_result"
    }
   ],
   "source": [
    "Fa.std()"
   ]
  },
  {
   "cell_type": "code",
   "execution_count": 28,
   "id": "0b5f90f1-5f20-4c89-94f4-630869a242af",
   "metadata": {},
   "outputs": [
    {
     "data": {
      "text/plain": [
       "0"
      ]
     },
     "execution_count": 28,
     "metadata": {},
     "output_type": "execute_result"
    }
   ],
   "source": [
    "Fa.min()"
   ]
  },
  {
   "cell_type": "code",
   "execution_count": 29,
   "id": "71b04c4e-940a-432e-9447-aca5d3e0d630",
   "metadata": {},
   "outputs": [
    {
     "data": {
      "text/plain": [
       "9"
      ]
     },
     "execution_count": 29,
     "metadata": {},
     "output_type": "execute_result"
    }
   ],
   "source": [
    "Fa.max()"
   ]
  },
  {
   "cell_type": "code",
   "execution_count": null,
   "id": "de0b8e11-c75d-4ba8-a1bc-d4af045616ca",
   "metadata": {},
   "outputs": [],
   "source": []
  }
 ],
 "metadata": {
  "kernelspec": {
   "display_name": "Python 3 (ipykernel)",
   "language": "python",
   "name": "python3"
  },
  "language_info": {
   "codemirror_mode": {
    "name": "ipython",
    "version": 3
   },
   "file_extension": ".py",
   "mimetype": "text/x-python",
   "name": "python",
   "nbconvert_exporter": "python",
   "pygments_lexer": "ipython3",
   "version": "3.11.4"
  }
 },
 "nbformat": 4,
 "nbformat_minor": 5
}
